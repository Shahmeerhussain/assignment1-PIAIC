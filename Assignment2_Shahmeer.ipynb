{
 "cells": [
  {
   "cell_type": "markdown",
   "metadata": {},
   "source": [
    "# Assignment 1"
   ]
  },
  {
   "cell_type": "markdown",
   "metadata": {},
   "source": [
    "# My Bio Data"
   ]
  },
  {
   "cell_type": "code",
   "execution_count": 6,
   "metadata": {},
   "outputs": [
    {
     "name": "stdout",
     "output_type": "stream",
     "text": [
      "Name:Shahmeer Hussain\n",
      "Age:17\n",
      "Nationality:Pakistan\n",
      "Roll Number:21394\n"
     ]
    }
   ],
   "source": [
    "print (\"Name:Shahmeer Hussain\")\n",
    "print (\"Age:17\")\n",
    "print (\"Nationality:Pakistan\")\n",
    "print (\"Roll Number:21394\")\n",
    "\n",
    "       "
   ]
  },
  {
   "cell_type": "markdown",
   "metadata": {},
   "source": [
    "# 1: Total subject marks and obtained marks:"
   ]
  },
  {
   "cell_type": "code",
   "execution_count": 8,
   "metadata": {},
   "outputs": [
    {
     "name": "stdout",
     "output_type": "stream",
     "text": [
      "509\n"
     ]
    }
   ],
   "source": [
    "TotalMarks=600\n",
    "Chemistry=85\n",
    "Math=97\n",
    "Urdu=80\n",
    "Physics=79\n",
    "Islamiat=75\n",
    "English=93\n",
    "ObtainedMarks=Chemistry+Math+Urdu+Physics+Islamiat+English\n",
    "print(ObtainedMarks)"
   ]
  },
  {
   "cell_type": "markdown",
   "metadata": {},
   "source": [
    "# 2:Percentage Calculation:"
   ]
  },
  {
   "cell_type": "code",
   "execution_count": 9,
   "metadata": {},
   "outputs": [
    {
     "name": "stdout",
     "output_type": "stream",
     "text": [
      "Percentage is : 84.83333333333334\n"
     ]
    }
   ],
   "source": [
    "TotalMarks=600\n",
    "ObtainedMarks=509\n",
    "Percentage=ObtainedMarks/TotalMarks*100\n",
    "print(\"Percentage is :\",Percentage)"
   ]
  },
  {
   "cell_type": "code",
   "execution_count": null,
   "metadata": {},
   "outputs": [],
   "source": []
  }
 ],
 "metadata": {
  "kernelspec": {
   "display_name": "Python 3",
   "language": "python",
   "name": "python3"
  },
  "language_info": {
   "codemirror_mode": {
    "name": "ipython",
    "version": 3
   },
   "file_extension": ".py",
   "mimetype": "text/x-python",
   "name": "python",
   "nbconvert_exporter": "python",
   "pygments_lexer": "ipython3",
   "version": "3.7.3"
  }
 },
 "nbformat": 4,
 "nbformat_minor": 2
}
